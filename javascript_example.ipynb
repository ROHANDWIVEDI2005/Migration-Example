{
 "cells": [
  {
   "cell_type": "code",
   "execution_count": null,
   "id": "1a2b40df",
   "metadata": {},
   "outputs": [],
   "source": [
    "import { GoogleGenAI } from \"@google/genai\";\n",
    "\n",
    "const ai = new GoogleGenAI({ apiKey: process.env.GEMINI_API_KEY });\n",
    "\n",
    "async function main() {\n",
    "  const response = await ai.models.generateContent({\n",
    "    model: \"gemini-2.0-flash\",\n",
    "    contents: \"How does AI work?\",\n",
    "  });\n",
    "  console.log(response.text);\n",
    "}\n",
    "\n",
    "await main();"
   ]
  }
 ],
 "metadata": {
  "kernelspec": {
   "display_name": "Deno",
   "language": "typescript",
   "name": "deno"
  },
  "language_info": {
   "name": "typescript"
  }
 },
 "nbformat": 4,
 "nbformat_minor": 5
}
